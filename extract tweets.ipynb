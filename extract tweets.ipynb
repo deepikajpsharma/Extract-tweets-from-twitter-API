{
 "cells": [
  {
   "cell_type": "markdown",
   "id": "internal-pound",
   "metadata": {},
   "source": [
    "Code to extract tweets from Twitter API"
   ]
  },
  {
   "cell_type": "code",
   "execution_count": null,
   "id": "social-cherry",
   "metadata": {},
   "outputs": [],
   "source": [
    "pip install tweet-preprocessor"
   ]
  },
  {
   "cell_type": "code",
   "execution_count": null,
   "id": "express-memorial",
   "metadata": {},
   "outputs": [],
   "source": [
    "import tweepy\n",
    "import pandas as pd\n",
    "import numpy as np\n",
    "import os\n",
    "import csv\n",
    "import re\n",
    "import string\n",
    "import preprocessor as p"
   ]
  },
  {
   "cell_type": "code",
   "execution_count": null,
   "id": "binding-investigator",
   "metadata": {},
   "outputs": [],
   "source": [
    "# Requirements- Twitter account that will enable the API access\n",
    "consumer_key= '<Add consumer key here>'\n",
    "consumer_secret =  '<Add consumer secret key here>'\n",
    "access_key= '<Add access key here>'\n",
    "access_secret = '<Add access secret token here>'"
   ]
  },
  {
   "cell_type": "code",
   "execution_count": null,
   "id": "dated-climate",
   "metadata": {},
   "outputs": [],
   "source": [
    "auth = tweepy.OAuthHandler(consumer_key, consumer_secret)\n",
    "auth.set_access_token(access_key, access_secret)\n",
    "api = tweepy.API(auth,wait_on_rate_limit=True)"
   ]
  },
  {
   "cell_type": "code",
   "execution_count": null,
   "id": "wired-carnival",
   "metadata": {},
   "outputs": [],
   "source": [
    "search_words = \"<add a hashtag>\" \n",
    "new_search = search_words + \" -filter:retweets\""
   ]
  },
  {
   "cell_type": "code",
   "execution_count": null,
   "id": "convenient-weekend",
   "metadata": {},
   "outputs": [],
   "source": [
    "for tweet in tweepy.Cursor(api.search,q=new_search,count=100,\n",
    "                           lang=\"en\",\n",
    "                           since_id=0).items():\n",
    "    csvWriter.writerow([tweet.created_at, tweet.text.encode('utf-8'),tweet.user.screen_name.encode('utf-8'), tweet.user.location.encode('utf-8')])"
   ]
  },
  {
   "cell_type": "code",
   "execution_count": null,
   "id": "middle-stack",
   "metadata": {},
   "outputs": [],
   "source": [
    "csvFile = open('file-name', 'a')\n",
    "csvWriter = csv.writer(csvFile)"
   ]
  },
  {
   "cell_type": "markdown",
   "id": "formed-affairs",
   "metadata": {},
   "source": [
    "Voila!"
   ]
  },
  {
   "cell_type": "markdown",
   "id": "spoken-walnut",
   "metadata": {},
   "source": [
    "Code adapted from here : https://www.askpython.com/python/examples/extracting-tweets-using-twitter-api"
   ]
  }
 ],
 "metadata": {
  "kernelspec": {
   "display_name": "Python 3",
   "language": "python",
   "name": "python3"
  },
  "language_info": {
   "codemirror_mode": {
    "name": "ipython",
    "version": 3
   },
   "file_extension": ".py",
   "mimetype": "text/x-python",
   "name": "python",
   "nbconvert_exporter": "python",
   "pygments_lexer": "ipython3",
   "version": "3.8.6"
  }
 },
 "nbformat": 4,
 "nbformat_minor": 5
}
